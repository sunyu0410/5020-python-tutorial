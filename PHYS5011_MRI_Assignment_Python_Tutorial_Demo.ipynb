{
  "nbformat": 4,
  "nbformat_minor": 0,
  "metadata": {
    "colab": {
      "provenance": []
    },
    "kernelspec": {
      "name": "python3",
      "display_name": "Python 3"
    },
    "language_info": {
      "name": "python"
    }
  },
  "cells": [
    {
      "cell_type": "markdown",
      "source": [
        "# PHYS5011 MRI Assignment\n",
        "## Task Description\n",
        "You will write Python code to simulate various types of MRI signals. The question will start simple and become progressively complex.\n",
        "\n",
        "## Purpose\n",
        "The purpose is to consolidate your knowledge of basic MRI Physics and use the Python skills you have been learning. This is an opportunity to develop a good foundation for programming using Python, and make sure your code works during the demo!\n",
        "\n",
        "\n",
        "## Assessment\n",
        "* Your work will be marked through an oral assessment where you will perform a demo of your code and explain your assumptions, logic, and results.\n",
        "* You will **not be marked on your programming skills**.\n",
        "\n",
        "> You are encouraged to seek help from others, including your lecturers.\n",
        "\n",
        "## Essential Skills\n",
        "* Using basic Python syntax\n",
        "* Manipulating Numpy arrays\n",
        "* Plotting simple data visualisations\n",
        "\n"
      ],
      "metadata": {
        "id": "n3qT5xgGk3Lh"
      }
    },
    {
      "cell_type": "markdown",
      "source": [
        "## Notes\n",
        "$B_0 = 1.5 T$\n",
        "\n",
        "Gyromagnetic Ratio = $42.6 MHz/T$\n",
        "\n",
        "Equilibrium magnetisation, expressed as a 1D vector in (x, y, z) as $M0 = [0, 0, 1]$.\n",
        "\n",
        "\n",
        "### Rotation matrices\n",
        "\n",
        "  $R_x = \\begin{pmatrix}\n",
        "  1 & 0 & 0 \\\\\n",
        "  0 & \\cos{\\alpha} & -\\sin{\\alpha} \\\\\n",
        "  0 & \\sin{\\alpha} & \\cos{\\alpha}\n",
        "  \\end{pmatrix}$\n",
        "\n",
        "  $R_y = \\begin{pmatrix}\n",
        "  \\cos{\\alpha} & 0            & \\sin{\\alpha} \\\\\n",
        "  0 & 1 & 0 \\\\\n",
        "  -\\sin{\\alpha} & 0 & \\cos{\\alpha}\n",
        "  \\end{pmatrix}$\n",
        "\n",
        "  $R_z = \\begin{pmatrix}\n",
        "  \\cos{\\alpha} & -\\sin{\\alpha} & 0 \\\\\n",
        "  \\sin{\\alpha} & \\cos{\\alpha} & 0 \\\\\n",
        "  0 & 0 & 1\n",
        "  \\end{pmatrix}$\n",
        "\n",
        "\n"
      ],
      "metadata": {
        "id": "ndsKaPPjmqEh"
      }
    },
    {
      "cell_type": "markdown",
      "source": [
        "Evolution of the magnetisation with effects of precession and relaxation\n",
        "\n",
        "$M_x(t) = M_x(0)e^{-\\frac{t}{T2}}\\cos{\\omega t} - M_y(0)e^{-\\frac{t}{T2}}\\sin{\\omega t}$\n",
        "\n",
        "$M_y(t) = M_x(0)e^{-\\frac{t}{T2}}\\sin{\\omega t} - M_y(0)e^{-\\frac{t}{T2}}\\cos{\\omega t}$\n",
        "\n",
        "$M_z(t) = M_z(0)e^{-\\frac{t}{T1}} - M_0(1-e^{-\\frac{t}{T1}})$\n",
        "\n"
      ],
      "metadata": {
        "id": "V9fnRJrWrJdB"
      }
    },
    {
      "cell_type": "markdown",
      "source": [
        "\n",
        "These can also be expressed in matrix form as\n",
        "$M_t = A \\times M + B$, where $A = E \\times R$,\n",
        "\n",
        "\n",
        "  $E = \\begin{pmatrix}\n",
        "  e^{-\\frac{t}{T2}} & 0 & 0 \\\\\n",
        "  0 & e^{-\\frac{t}{T2}} & 0 \\\\\n",
        "  0 & 0 & e^{-\\frac{t}{T1}}\n",
        "  \\end{pmatrix}$\n",
        "\n",
        "  $R = \\begin{pmatrix}\n",
        "  \\cos{\\omega t} & -\\sin{\\omega t} & 0 \\\\\n",
        "  \\sin{\\omega t} & \\cos{\\omega t} & 0 \\\\\n",
        "  0 & 0 & 1\n",
        "  \\end{pmatrix}$\n",
        "\n",
        "  $B = \\begin{pmatrix}\n",
        "  0 \\\\\n",
        "  0 \\\\\n",
        "  M_0(1-e^{-\\frac{t}{T1}})\n",
        "  \\end{pmatrix}$"
      ],
      "metadata": {
        "id": "h9YXqpHLvGcn"
      }
    },
    {
      "cell_type": "markdown",
      "source": [
        "Hint 1: The effect of an RF pulse is a rotation around an axis. Assume that excitation pulses are applied about the X-axis, refocusing pulses about the Y-axis and inversion pulses about the X-axis.\n",
        "\n",
        "Hint 2: Precession can be treated as a rotation about the Z-axis, by an angle determined by the precession frequency and time.\n",
        "\n",
        "Hint 3: Start with equilibrium magnetisation, $\\bf{M_0} = [0, 0, M_0] = [0,0,1]$"
      ],
      "metadata": {
        "id": "9yJrP7xrtVpm"
      }
    },
    {
      "cell_type": "markdown",
      "source": [
        "For the pulse sequences shown below, plot the time-varying signal that is acquired. Assume that all RF pulses are applied on-resonance. Choose appropriate values for T1, T2, TE, TR, T2*, TI and a. Demonstrate the effects of different values of TE and TI."
      ],
      "metadata": {
        "id": "t8mrTrUmty-v"
      }
    },
    {
      "cell_type": "markdown",
      "source": [
        "1. Hint: After the excitation pulse, the magnetisation undergoes free precession, with a\n",
        "transverse relaxation time of T2*. (1 mark)"
      ],
      "metadata": {
        "id": "Qsn132nft8Ny"
      }
    },
    {
      "cell_type": "markdown",
      "source": [
        "![image.png](data:image/png;base64,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)"
      ],
      "metadata": {
        "id": "F6HYiyceuWWB"
      }
    },
    {
      "cell_type": "code",
      "source": [
        "import numpy as np\n",
        "import matplotlib.pyplot as plt"
      ],
      "metadata": {
        "id": "FApc9JBbAHMG"
      },
      "execution_count": null,
      "outputs": []
    },
    {
      "cell_type": "code",
      "source": [
        "def roty(a):\n",
        "    R = [[np.cos(a), 0, np.sin(a)], [0, 1, 0], [-np.sin(a), 0, np.cos(a)]]\n",
        "    return R"
      ],
      "metadata": {
        "id": "rzg-ih57ATK2"
      },
      "execution_count": null,
      "outputs": []
    },
    {
      "cell_type": "code",
      "source": [
        "def rotz(a):\n",
        "    R = [[np.cos(a), -np.sin(a), 0], [np.sin(a), np.cos(a), 0], [0, 0, 1]]\n",
        "    return R"
      ],
      "metadata": {
        "id": "c5lHXqRQAcOI"
      },
      "execution_count": null,
      "outputs": []
    },
    {
      "cell_type": "code",
      "source": [
        "def freeprecession(T1, T2, w, t):\n",
        "    # magnetisation returns to equilibrium via spin relaxation over time t,\n",
        "    E1 = np.exp(-t/T1)\n",
        "    E2 = np.exp(-t/T2)\n",
        "    E = [[E2, 0, 0],\n",
        "         [0, E2, 0],\n",
        "         [0, 0, E1]]\n",
        "\n",
        "    # precession is described as a rotation around z\n",
        "    phi = float(w)*t\n",
        "\n",
        "    # Create two matrices to describe the combined effect of relaxation and precession\n",
        "    A = np.matmul(E, rotz(phi))\n",
        "    B = [0, 0, 1-E1]\n",
        "\n",
        "    return A, B"
      ],
      "metadata": {
        "id": "fDAc_pFKAXv-"
      },
      "execution_count": null,
      "outputs": []
    },
    {
      "cell_type": "code",
      "source": [
        "def fid(TR, dt, a, M0, T1, T2star, w):\n",
        "    t = np.arange(0, TR, dt)  # s, time of the experiment\n",
        "    M_t = np.zeros(shape=(3, len(t)))\n",
        "    M_t[:, 0] = M0\n",
        "\n",
        "    # Flip the magnetisation onto transverse plane by an angle a. In this case,\n",
        "    # assuming the B1 field is applied along the y axis,\n",
        "    Rflip = roty(a)\n",
        "    M = np.matmul(Rflip, M0)\n",
        "    M_t[:, 1] = M\n",
        "\n",
        "    # Evolution\n",
        "    A, B = freeprecession(T1, T2star, w, dt)\n",
        "    for n in range(2, len(t)):\n",
        "        M_t[:, n] = np.matmul(A, M_t[:, n-1]) + B\n",
        "\n",
        "    return t, M_t"
      ],
      "metadata": {
        "id": "N3tn4WPp_-VQ"
      },
      "execution_count": null,
      "outputs": []
    },
    {
      "cell_type": "code",
      "source": [
        "# Define some parameters\n",
        "T1 = 0.800  # s\n",
        "T2star = 0.020  # s\n",
        "B0 = 1.5  # Tesla (T)\n",
        "gamma = 2*np.pi*42.6*1e6  # rad/s/T\n",
        "w0 = gamma*B0  # rad/s\n",
        "M0 = np.array([0, 0, 1])  # Magnetisation vector\n",
        "dt = 0.001  # s\n",
        "\n",
        "a = np.pi/2  # radians\n",
        "TR = T1  # s\n",
        "\n",
        "t, M_t = fid(TR, dt, a, M0, T1, T2star, w0)\n",
        "\n",
        "S = np.sqrt(M_t[0]**2 + M_t[1]**2)\n",
        "plt.plot(t, S, 'b')\n",
        "plt.xlabel('time (s)')\n",
        "plt.ylabel('S')\n",
        "plt.title('FID')\n",
        "plt.show()\n"
      ],
      "metadata": {
        "id": "dIIWjp7Lu5x6",
        "outputId": "a1a3b02e-3ae0-4631-f01c-2f21269deab4",
        "colab": {
          "base_uri": "https://localhost:8080/",
          "height": 472
        }
      },
      "execution_count": null,
      "outputs": [
        {
          "output_type": "display_data",
          "data": {
            "text/plain": [
              "<Figure size 640x480 with 1 Axes>"
            ],
            "image/png": "[encoded data removed]"
          },
          "metadata": {}
        }
      ]
    }
  ]
}