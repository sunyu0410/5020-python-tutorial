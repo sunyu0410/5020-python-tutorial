{
  "nbformat": 4,
  "nbformat_minor": 0,
  "metadata": {
    "colab": {
      "provenance": []
    },
    "kernelspec": {
      "name": "python3",
      "display_name": "Python 3"
    },
    "language_info": {
      "name": "python"
    }
  },
  "cells": [
    {
      "cell_type": "markdown",
      "source": [
        "# Python Tutorial II - Numpy\n",
        "\n",
        "* Why use Numpy\n",
        "* N-dimensional arrays (`ndarray`)\n",
        "  * Broadcasting\n",
        "* Save and load"
      ],
      "metadata": {
        "id": "hjXpfdtVf-N_"
      }
    },
    {
      "cell_type": "markdown",
      "source": [
        "## Why numpy"
      ],
      "metadata": {
        "id": "nvOj7EAzmSm7"
      }
    },
    {
      "cell_type": "markdown",
      "source": [
        "In one sentence - Python lists are slow.\n",
        "\n",
        "This is because it trades efficiency for usability (easy to use, but with many levels of actions).\n",
        "\n",
        "Numpy uses C/C++ which are far more efficient than Python."
      ],
      "metadata": {
        "id": "no0E7MWBmUWw"
      }
    },
    {
      "cell_type": "markdown",
      "source": [
        "## Arrays"
      ],
      "metadata": {
        "id": "vGfS-2pCnjab"
      }
    },
    {
      "cell_type": "markdown",
      "source": [
        "Arrays or N-dimensional arrays are the main data type in Numpy."
      ],
      "metadata": {
        "id": "29v0H4smnmks"
      }
    },
    {
      "cell_type": "code",
      "execution_count": 1,
      "metadata": {
        "id": "k55EpBQ9f7fP"
      },
      "outputs": [],
      "source": [
        "import numpy as np"
      ]
    },
    {
      "cell_type": "code",
      "source": [
        "np.ndarray?"
      ],
      "metadata": {
        "id": "14kqCzSvn0c4"
      },
      "execution_count": 52,
      "outputs": []
    },
    {
      "cell_type": "markdown",
      "source": [
        "### Creating an array"
      ],
      "metadata": {
        "id": "YoYFPx6DnuCP"
      }
    },
    {
      "cell_type": "code",
      "source": [
        "# Create a list\n",
        "my_list = list(range(1, 25))"
      ],
      "metadata": {
        "id": "NU3vcbuSgPXo"
      },
      "execution_count": 5,
      "outputs": []
    },
    {
      "cell_type": "code",
      "source": [
        "print(my_list)"
      ],
      "metadata": {
        "colab": {
          "base_uri": "https://localhost:8080/"
        },
        "id": "6MLaeXRxgSlr",
        "outputId": "7e93921c-c084-482c-bf7c-ce0db93a6ace"
      },
      "execution_count": 7,
      "outputs": [
        {
          "output_type": "stream",
          "name": "stdout",
          "text": [
            "[1, 2, 3, 4, 5, 6, 7, 8, 9, 10, 11, 12, 13, 14, 15, 16, 17, 18, 19, 20, 21, 22, 23, 24]\n"
          ]
        }
      ]
    },
    {
      "cell_type": "code",
      "source": [
        "# Make a np array from the list\n",
        "arr = np.array(my_list)"
      ],
      "metadata": {
        "id": "ZoxOKM4FgtCM"
      },
      "execution_count": 8,
      "outputs": []
    },
    {
      "cell_type": "code",
      "source": [
        "arr"
      ],
      "metadata": {
        "colab": {
          "base_uri": "https://localhost:8080/"
        },
        "id": "bWrnO972ioBr",
        "outputId": "97eb7863-4f37-405b-a21e-5056c726a045"
      },
      "execution_count": 16,
      "outputs": [
        {
          "output_type": "execute_result",
          "data": {
            "text/plain": [
              "array([ 1,  2,  3,  4,  5,  6,  7,  8,  9, 10, 11, 12, 13, 14, 15, 16, 17,\n",
              "       18, 19, 20, 21, 22, 23, 24])"
            ]
          },
          "metadata": {},
          "execution_count": 16
        }
      ]
    },
    {
      "cell_type": "code",
      "source": [
        "arr.dtype"
      ],
      "metadata": {
        "colab": {
          "base_uri": "https://localhost:8080/"
        },
        "id": "7CJfrGi_gxP-",
        "outputId": "887acd52-2558-45b8-912f-7d295b1c743b"
      },
      "execution_count": 10,
      "outputs": [
        {
          "output_type": "execute_result",
          "data": {
            "text/plain": [
              "dtype('int64')"
            ]
          },
          "metadata": {},
          "execution_count": 10
        }
      ]
    },
    {
      "cell_type": "markdown",
      "source": [
        "Numpy has 18 data types:\n",
        "\n",
        "https://numpy.org/doc/stable/user/basics.types.html\n",
        "\n",
        "Common ones are:\n",
        "* `uint8`, `int8`\n",
        "* `float16`, `float32`, `float64`\n"
      ],
      "metadata": {
        "id": "grKANvDqhB3W"
      }
    },
    {
      "cell_type": "code",
      "source": [
        "arr.astype(np.float16)"
      ],
      "metadata": {
        "colab": {
          "base_uri": "https://localhost:8080/"
        },
        "id": "CexsXpbKgx50",
        "outputId": "f3c7d695-86a2-4958-a27c-f1fc138826b0"
      },
      "execution_count": 14,
      "outputs": [
        {
          "output_type": "execute_result",
          "data": {
            "text/plain": [
              "array([ 1.,  2.,  3.,  4.,  5.,  6.,  7.,  8.,  9., 10., 11., 12., 13.,\n",
              "       14., 15., 16., 17., 18., 19., 20., 21., 22., 23., 24.],\n",
              "      dtype=float16)"
            ]
          },
          "metadata": {},
          "execution_count": 14
        }
      ]
    },
    {
      "cell_type": "code",
      "source": [
        "arr.astype(np.uint8)"
      ],
      "metadata": {
        "colab": {
          "base_uri": "https://localhost:8080/"
        },
        "id": "9MS9EvMchaP7",
        "outputId": "adfa6089-bfe9-4ed8-ea90-00ca8780ce0a"
      },
      "execution_count": 15,
      "outputs": [
        {
          "output_type": "execute_result",
          "data": {
            "text/plain": [
              "array([ 1,  2,  3,  4,  5,  6,  7,  8,  9, 10, 11, 12, 13, 14, 15, 16, 17,\n",
              "       18, 19, 20, 21, 22, 23, 24], dtype=uint8)"
            ]
          },
          "metadata": {},
          "execution_count": 15
        }
      ]
    },
    {
      "cell_type": "code",
      "source": [
        "# Get the shape\n",
        "arr.shape"
      ],
      "metadata": {
        "colab": {
          "base_uri": "https://localhost:8080/"
        },
        "id": "FQbrpqh7ik7J",
        "outputId": "48cfc60e-d093-407a-c4c7-49a97b731429"
      },
      "execution_count": 17,
      "outputs": [
        {
          "output_type": "execute_result",
          "data": {
            "text/plain": [
              "(24,)"
            ]
          },
          "metadata": {},
          "execution_count": 17
        }
      ]
    },
    {
      "cell_type": "code",
      "source": [
        "arr.reshape((6,4))"
      ],
      "metadata": {
        "colab": {
          "base_uri": "https://localhost:8080/"
        },
        "id": "m4BpI7kaitmh",
        "outputId": "26e25f10-41fa-4175-c1af-d465a47c5d04"
      },
      "execution_count": 19,
      "outputs": [
        {
          "output_type": "execute_result",
          "data": {
            "text/plain": [
              "array([[ 1,  2,  3,  4],\n",
              "       [ 5,  6,  7,  8],\n",
              "       [ 9, 10, 11, 12],\n",
              "       [13, 14, 15, 16],\n",
              "       [17, 18, 19, 20],\n",
              "       [21, 22, 23, 24]])"
            ]
          },
          "metadata": {},
          "execution_count": 19
        }
      ]
    },
    {
      "cell_type": "code",
      "source": [
        "arr.reshape((2, 3, 4))"
      ],
      "metadata": {
        "colab": {
          "base_uri": "https://localhost:8080/"
        },
        "id": "1lWtdYxJivC6",
        "outputId": "f0c0b372-e6b4-4f1d-b4a2-612a050226b3"
      },
      "execution_count": 20,
      "outputs": [
        {
          "output_type": "execute_result",
          "data": {
            "text/plain": [
              "array([[[ 1,  2,  3,  4],\n",
              "        [ 5,  6,  7,  8],\n",
              "        [ 9, 10, 11, 12]],\n",
              "\n",
              "       [[13, 14, 15, 16],\n",
              "        [17, 18, 19, 20],\n",
              "        [21, 22, 23, 24]]])"
            ]
          },
          "metadata": {},
          "execution_count": 20
        }
      ]
    },
    {
      "cell_type": "code",
      "source": [
        "# astype or reshape will create a new array object\n",
        "# Hence the original object won't be change\n",
        "arr"
      ],
      "metadata": {
        "colab": {
          "base_uri": "https://localhost:8080/"
        },
        "id": "ILTJw4uti9Vl",
        "outputId": "d4103f4f-0e0e-475e-e618-a4c1fdfb3723"
      },
      "execution_count": 29,
      "outputs": [
        {
          "output_type": "execute_result",
          "data": {
            "text/plain": [
              "array([ 1,  2,  3,  4,  5,  6,  7,  8,  9, 10, 11, 12, 13, 14, 15, 16, 17,\n",
              "       18, 19, 20, 21, 22, 23, 24])"
            ]
          },
          "metadata": {},
          "execution_count": 29
        }
      ]
    },
    {
      "cell_type": "code",
      "source": [
        "arr2 = arr.reshape((2,3,4))"
      ],
      "metadata": {
        "id": "KUwNKx-_izGi"
      },
      "execution_count": 21,
      "outputs": []
    },
    {
      "cell_type": "code",
      "source": [
        "arr2.shape"
      ],
      "metadata": {
        "colab": {
          "base_uri": "https://localhost:8080/"
        },
        "id": "qXohMMGui8iO",
        "outputId": "1b6569db-96e9-4416-b623-6b5eae5f25b6"
      },
      "execution_count": 22,
      "outputs": [
        {
          "output_type": "execute_result",
          "data": {
            "text/plain": [
              "(2, 3, 4)"
            ]
          },
          "metadata": {},
          "execution_count": 22
        }
      ]
    },
    {
      "cell_type": "code",
      "source": [
        "# Flatten an array\n",
        "arr2.ravel()"
      ],
      "metadata": {
        "colab": {
          "base_uri": "https://localhost:8080/"
        },
        "id": "3cukRUqRjTfC",
        "outputId": "5444a857-00e7-44e7-ec2e-3b0bed06cff3"
      },
      "execution_count": 38,
      "outputs": [
        {
          "output_type": "execute_result",
          "data": {
            "text/plain": [
              "array([ 1,  2,  3,  4,  5,  6,  7,  8,  9, 10, 11, 12, 13, 14, 15, 16, 17,\n",
              "       18, 19, 20, 21, 22, 23, 24])"
            ]
          },
          "metadata": {},
          "execution_count": 38
        }
      ]
    },
    {
      "cell_type": "markdown",
      "source": [
        "Another way to create an array is to call the numpy functions."
      ],
      "metadata": {
        "id": "yTduiRXtoBO6"
      }
    },
    {
      "cell_type": "code",
      "source": [
        "np.zeros((3,4), dtype=np.float16)"
      ],
      "metadata": {
        "colab": {
          "base_uri": "https://localhost:8080/"
        },
        "id": "kP6_9gW-oJrB",
        "outputId": "eefed424-eb2b-4d31-8abf-f70b08de8731"
      },
      "execution_count": 54,
      "outputs": [
        {
          "output_type": "execute_result",
          "data": {
            "text/plain": [
              "array([[0., 0., 0., 0.],\n",
              "       [0., 0., 0., 0.],\n",
              "       [0., 0., 0., 0.]], dtype=float16)"
            ]
          },
          "metadata": {},
          "execution_count": 54
        }
      ]
    },
    {
      "cell_type": "code",
      "source": [
        "np.arange(1, 25).reshape((3,8))"
      ],
      "metadata": {
        "colab": {
          "base_uri": "https://localhost:8080/"
        },
        "id": "y8_xCohQoOtQ",
        "outputId": "01736ee0-5f6d-4878-dcf3-a55ebe0dd7c0"
      },
      "execution_count": 56,
      "outputs": [
        {
          "output_type": "execute_result",
          "data": {
            "text/plain": [
              "array([[ 1,  2,  3,  4,  5,  6,  7,  8],\n",
              "       [ 9, 10, 11, 12, 13, 14, 15, 16],\n",
              "       [17, 18, 19, 20, 21, 22, 23, 24]])"
            ]
          },
          "metadata": {},
          "execution_count": 56
        }
      ]
    },
    {
      "cell_type": "code",
      "source": [
        "# Others\n",
        "# np.zeros_like, np.ones, np.ones_like, np.eye"
      ],
      "metadata": {
        "id": "XITGDcgyomOF"
      },
      "execution_count": 57,
      "outputs": []
    },
    {
      "cell_type": "markdown",
      "source": [
        "## Operations"
      ],
      "metadata": {
        "id": "SYfQjEGUkHfL"
      }
    },
    {
      "cell_type": "markdown",
      "source": [
        "### Uni-operand\n",
        "\n",
        "Numpy provides lots of math functions. It will calculate the element-wise result, returning an array with the same size.\n",
        "\n",
        "You can think of this is applying a function in a for loop on each element."
      ],
      "metadata": {
        "id": "W65oNsnmoyI3"
      }
    },
    {
      "cell_type": "code",
      "source": [
        "np.exp(arr)"
      ],
      "metadata": {
        "colab": {
          "base_uri": "https://localhost:8080/"
        },
        "id": "hCMjEh_Wo7wT",
        "outputId": "d7a93058-ef1f-45db-853d-10faf2a8a4c7"
      },
      "execution_count": 58,
      "outputs": [
        {
          "output_type": "execute_result",
          "data": {
            "text/plain": [
              "array([2.71828183e+00, 7.38905610e+00, 2.00855369e+01, 5.45981500e+01,\n",
              "       1.48413159e+02, 4.03428793e+02, 1.09663316e+03, 2.98095799e+03,\n",
              "       8.10308393e+03, 2.20264658e+04, 5.98741417e+04, 1.62754791e+05,\n",
              "       4.42413392e+05, 1.20260428e+06, 3.26901737e+06, 8.88611052e+06,\n",
              "       2.41549528e+07, 6.56599691e+07, 1.78482301e+08, 4.85165195e+08,\n",
              "       1.31881573e+09, 3.58491285e+09, 9.74480345e+09, 2.64891221e+10])"
            ]
          },
          "metadata": {},
          "execution_count": 58
        }
      ]
    },
    {
      "cell_type": "code",
      "source": [
        "np.log(arr)"
      ],
      "metadata": {
        "colab": {
          "base_uri": "https://localhost:8080/"
        },
        "id": "ssy-Cefeo9D_",
        "outputId": "e5ffa2fc-74d4-4f17-cdd7-b167a1994c6d"
      },
      "execution_count": 59,
      "outputs": [
        {
          "output_type": "execute_result",
          "data": {
            "text/plain": [
              "array([0.        , 0.69314718, 1.09861229, 1.38629436, 1.60943791,\n",
              "       1.79175947, 1.94591015, 2.07944154, 2.19722458, 2.30258509,\n",
              "       2.39789527, 2.48490665, 2.56494936, 2.63905733, 2.7080502 ,\n",
              "       2.77258872, 2.83321334, 2.89037176, 2.94443898, 2.99573227,\n",
              "       3.04452244, 3.09104245, 3.13549422, 3.17805383])"
            ]
          },
          "metadata": {},
          "execution_count": 59
        }
      ]
    },
    {
      "cell_type": "code",
      "source": [
        "np.sin(arr)"
      ],
      "metadata": {
        "colab": {
          "base_uri": "https://localhost:8080/"
        },
        "id": "f6xMukkvo-2m",
        "outputId": "fc7f0151-7987-42d9-cb41-ad9c51e11ff1"
      },
      "execution_count": 60,
      "outputs": [
        {
          "output_type": "execute_result",
          "data": {
            "text/plain": [
              "array([ 0.84147098,  0.90929743,  0.14112001, -0.7568025 , -0.95892427,\n",
              "       -0.2794155 ,  0.6569866 ,  0.98935825,  0.41211849, -0.54402111,\n",
              "       -0.99999021, -0.53657292,  0.42016704,  0.99060736,  0.65028784,\n",
              "       -0.28790332, -0.96139749, -0.75098725,  0.14987721,  0.91294525,\n",
              "        0.83665564, -0.00885131, -0.8462204 , -0.90557836])"
            ]
          },
          "metadata": {},
          "execution_count": 60
        }
      ]
    },
    {
      "cell_type": "code",
      "source": [
        "np.tan(arr)"
      ],
      "metadata": {
        "colab": {
          "base_uri": "https://localhost:8080/"
        },
        "id": "19TkMZRGpBFZ",
        "outputId": "f06528f3-b9c6-4dd7-a810-86a9c0d89003"
      },
      "execution_count": 61,
      "outputs": [
        {
          "output_type": "execute_result",
          "data": {
            "text/plain": [
              "array([ 1.55740772e+00, -2.18503986e+00, -1.42546543e-01,  1.15782128e+00,\n",
              "       -3.38051501e+00, -2.91006191e-01,  8.71447983e-01, -6.79971146e+00,\n",
              "       -4.52315659e-01,  6.48360827e-01, -2.25950846e+02, -6.35859929e-01,\n",
              "        4.63021133e-01,  7.24460662e+00, -8.55993401e-01,  3.00632242e-01,\n",
              "        3.49391565e+00, -1.13731371e+00,  1.51589471e-01,  2.23716094e+00,\n",
              "       -1.52749853e+00,  8.85165604e-03,  1.58815308e+00, -2.13489670e+00])"
            ]
          },
          "metadata": {},
          "execution_count": 61
        }
      ]
    },
    {
      "cell_type": "markdown",
      "source": [
        "### To do\n",
        "\n",
        "Define a function that takes an angle ($Θ$) and returns the matrix as an array.\n",
        "\n",
        "  $R = \\begin{pmatrix}\n",
        "  \\sin(Θ) & -\\cos(Θ) \\\\\n",
        "  -\\tan(Θ) & \\cot(Θ) \\\\\n",
        "  \\end{pmatrix}$"
      ],
      "metadata": {
        "id": "n11e13zRqPdl"
      }
    },
    {
      "cell_type": "code",
      "source": [
        "# Answer\n",
        "def rotation_matrix(theta):\n",
        "    # Answer\n",
        "    pass\n",
        "\n",
        "\n"
      ],
      "metadata": {
        "id": "VeO_FFv8rKOz"
      },
      "execution_count": null,
      "outputs": []
    },
    {
      "cell_type": "markdown",
      "source": [
        "### Bi-operand"
      ],
      "metadata": {
        "id": "3j4QRcippVdn"
      }
    },
    {
      "cell_type": "markdown",
      "source": [
        "When two operands are involved, it will first check the shape:\n",
        "* If the shape matches, it will do an element-wise operation\n",
        "* If it doesn't match,\n",
        "  * If one shape is a perfect subsect of the other, it will do what's called a **broadcasting**.\n",
        "    * Hence for a scalar, it can always do broadcasting, e.g. `array([10, 11, 23]) + 1`\n",
        "  * Else it will trigger an error"
      ],
      "metadata": {
        "id": "2PszrzR1jfkG"
      }
    },
    {
      "cell_type": "code",
      "source": [
        "# Same shape\n",
        "np.array([1,2,3]) + np.array([4,5,6])"
      ],
      "metadata": {
        "colab": {
          "base_uri": "https://localhost:8080/"
        },
        "id": "CJJ_sCHPjZkl",
        "outputId": "83941394-6771-4126-cc39-7a011f123609"
      },
      "execution_count": 39,
      "outputs": [
        {
          "output_type": "execute_result",
          "data": {
            "text/plain": [
              "array([5, 7, 9])"
            ]
          },
          "metadata": {},
          "execution_count": 39
        }
      ]
    },
    {
      "cell_type": "code",
      "source": [
        "# Broadcasting\n",
        "np.array([1,2,3]) + 4"
      ],
      "metadata": {
        "colab": {
          "base_uri": "https://localhost:8080/"
        },
        "id": "hzV0Wg8PkQWv",
        "outputId": "e5741fda-bb1a-4fb5-97c2-3b89b48dd2f1"
      },
      "execution_count": 40,
      "outputs": [
        {
          "output_type": "execute_result",
          "data": {
            "text/plain": [
              "array([5, 6, 7])"
            ]
          },
          "metadata": {},
          "execution_count": 40
        }
      ]
    },
    {
      "cell_type": "code",
      "source": [
        "# Broadcasting\n",
        "np.array([[1,2,3], [4,5,6]]) + np.array([1,1,1])"
      ],
      "metadata": {
        "colab": {
          "base_uri": "https://localhost:8080/"
        },
        "id": "jmRg4uWmkVD0",
        "outputId": "48bf6b2a-1e45-4ba7-ca13-42512e90960a"
      },
      "execution_count": 41,
      "outputs": [
        {
          "output_type": "execute_result",
          "data": {
            "text/plain": [
              "array([[2, 3, 4],\n",
              "       [5, 6, 7]])"
            ]
          },
          "metadata": {},
          "execution_count": 41
        }
      ]
    },
    {
      "cell_type": "code",
      "source": [
        "# Error\n",
        "np.array([[1,2,3], [4,5,6]]) + np.array([1,1])"
      ],
      "metadata": {
        "colab": {
          "base_uri": "https://localhost:8080/",
          "height": 158
        },
        "id": "pd9J_xfbkada",
        "outputId": "cac7501e-4ade-4195-a7ca-17ea38cb99ea"
      },
      "execution_count": 42,
      "outputs": [
        {
          "output_type": "error",
          "ename": "ValueError",
          "evalue": "operands could not be broadcast together with shapes (2,3) (2,) ",
          "traceback": [
            "\u001b[0;31m---------------------------------------------------------------------------\u001b[0m",
            "\u001b[0;31mValueError\u001b[0m                                Traceback (most recent call last)",
            "\u001b[0;32m<ipython-input-42-9fd5c9624d8f>\u001b[0m in \u001b[0;36m<cell line: 2>\u001b[0;34m()\u001b[0m\n\u001b[1;32m      1\u001b[0m \u001b[0;31m# Error\u001b[0m\u001b[0;34m\u001b[0m\u001b[0;34m\u001b[0m\u001b[0m\n\u001b[0;32m----> 2\u001b[0;31m \u001b[0mnp\u001b[0m\u001b[0;34m.\u001b[0m\u001b[0marray\u001b[0m\u001b[0;34m(\u001b[0m\u001b[0;34m[\u001b[0m\u001b[0;34m[\u001b[0m\u001b[0;36m1\u001b[0m\u001b[0;34m,\u001b[0m\u001b[0;36m2\u001b[0m\u001b[0;34m,\u001b[0m\u001b[0;36m3\u001b[0m\u001b[0;34m]\u001b[0m\u001b[0;34m,\u001b[0m \u001b[0;34m[\u001b[0m\u001b[0;36m4\u001b[0m\u001b[0;34m,\u001b[0m\u001b[0;36m5\u001b[0m\u001b[0;34m,\u001b[0m\u001b[0;36m6\u001b[0m\u001b[0;34m]\u001b[0m\u001b[0;34m]\u001b[0m\u001b[0;34m)\u001b[0m \u001b[0;34m+\u001b[0m \u001b[0mnp\u001b[0m\u001b[0;34m.\u001b[0m\u001b[0marray\u001b[0m\u001b[0;34m(\u001b[0m\u001b[0;34m[\u001b[0m\u001b[0;36m1\u001b[0m\u001b[0;34m,\u001b[0m\u001b[0;36m1\u001b[0m\u001b[0;34m]\u001b[0m\u001b[0;34m)\u001b[0m\u001b[0;34m\u001b[0m\u001b[0;34m\u001b[0m\u001b[0m\n\u001b[0m",
            "\u001b[0;31mValueError\u001b[0m: operands could not be broadcast together with shapes (2,3) (2,) "
          ]
        }
      ]
    },
    {
      "cell_type": "markdown",
      "source": [
        "## Save and load"
      ],
      "metadata": {
        "id": "BPS2nolOkj_J"
      }
    },
    {
      "cell_type": "code",
      "source": [
        "np.save('arr2.npy', arr2)"
      ],
      "metadata": {
        "id": "YAzu7sb6kesv"
      },
      "execution_count": 48,
      "outputs": []
    },
    {
      "cell_type": "code",
      "source": [
        "arr2_loaded = np.load('arr2.npy')"
      ],
      "metadata": {
        "id": "4R3ZyL_Ykppr"
      },
      "execution_count": 49,
      "outputs": []
    },
    {
      "cell_type": "code",
      "source": [
        "arr2_loaded"
      ],
      "metadata": {
        "colab": {
          "base_uri": "https://localhost:8080/"
        },
        "id": "MVIrX5uakr7t",
        "outputId": "23bd5714-2301-4c3c-f736-dbcfba2451d3"
      },
      "execution_count": 50,
      "outputs": [
        {
          "output_type": "execute_result",
          "data": {
            "text/plain": [
              "array([[[ 1,  2,  3,  4],\n",
              "        [ 5,  6,  7,  8],\n",
              "        [ 9, 10, 11, 12]],\n",
              "\n",
              "       [[13, 14, 15, 16],\n",
              "        [17, 18, 19, 20],\n",
              "        [21, 22, 23, 24]]])"
            ]
          },
          "metadata": {},
          "execution_count": 50
        }
      ]
    },
    {
      "cell_type": "markdown",
      "source": [
        "### To do\n",
        "* Cast `arr` to `float64` as variable `arr3`.\n",
        "* Save it as file `arr3.npy`.\n",
        "* Load it as `arr3_loaded` and make sure it's the same as `arr3`"
      ],
      "metadata": {
        "id": "q8jBVTKolEJC"
      }
    },
    {
      "cell_type": "code",
      "source": [
        "# Answer\n",
        "\n",
        "\n",
        "\n"
      ],
      "metadata": {
        "id": "slU9R5sGrMh9"
      },
      "execution_count": null,
      "outputs": []
    },
    {
      "cell_type": "markdown",
      "source": [
        "## Walk through of a sample MRI assignment\n",
        "\n",
        "https://github.com/sunyu0410/5020-python-tutorial/blob/main/PHYS5011_MRI_Assignment_Python_Tutorial_Demo.ipynb\n",
        "\n",
        "This week, work out\n",
        "* What do each of the functions do?\n",
        "* Which steps may involve broadcasting?"
      ],
      "metadata": {
        "id": "s-OC47kVll7p"
      }
    },
    {
      "cell_type": "code",
      "source": [],
      "metadata": {
        "id": "RXoTIwdfksuh"
      },
      "execution_count": null,
      "outputs": []
    }
  ]
}