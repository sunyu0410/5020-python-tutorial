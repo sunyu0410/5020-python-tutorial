{
  "nbformat": 4,
  "nbformat_minor": 0,
  "metadata": {
    "colab": {
      "provenance": []
    },
    "kernelspec": {
      "name": "python3",
      "display_name": "Python 3"
    },
    "language_info": {
      "name": "python"
    }
  },
  "cells": [
    {
      "cell_type": "markdown",
      "source": [
        "# Python Tutorial (I)\n",
        "\n",
        "5th March 2024\n",
        "\n",
        "Dr. Yu Sun (yu.sun@sydney.edu.au)"
      ],
      "metadata": {
        "id": "rtVmzs82ARZd"
      }
    },
    {
      "cell_type": "markdown",
      "source": [
        "> Agenda\n",
        "* Set up Colab environment for running code (20 minutes)\n",
        "* Upload and download files (5 minutes)\n",
        "* Some basic concepts: paths, shell vs Python commands (10 minutes)\n",
        "* Install packages (5 minutes)\n",
        "* Connect Google Drive to the save progress (5 minutes)\n",
        "* Walk through of a sample MRI assignment (15 minutes)\n",
        "* Release of execise (Q1) and reading materials: general Python syntax\n",
        "\n",
        "\n",
        "-----------------"
      ],
      "metadata": {
        "id": "Fo83fEN19bbV"
      }
    },
    {
      "cell_type": "markdown",
      "source": [
        "## How Python Runs"
      ],
      "metadata": {
        "id": "boOJlpypIs67"
      }
    },
    {
      "cell_type": "markdown",
      "source": [
        "* Python is an interpreting language, like a diaglogue\n",
        "  * One Command goes in, one response comes back.\n",
        "  * For multiple commands, it's being run one at a time.\n",
        "* But to whom the diaglogue is with? -> The interpreter\n",
        "  * The interpreter is a program installed on a computer\n",
        "  * Can be installed locally just like MS Word or Excel\n",
        "  * It parses the command and runs it\n",
        "\n",
        "Imagine this scenario:\n",
        "* A company provides many servers that pre-installed the Python interper\n",
        "* It lets other people to use these for free\n",
        "* People can type commands via the Internet and the results are sent back\n",
        "* All command histories are save in a document while people typed\n",
        "\n",
        "This is what Colab offers.\n",
        "\n",
        "\n"
      ],
      "metadata": {
        "id": "1NCIpVEuIvVy"
      }
    },
    {
      "cell_type": "markdown",
      "source": [
        "## Setup Colab\n",
        "* New document\n",
        "* Cell types\n",
        "* Run cell\n",
        "* Where it's stored\n",
        "* File type (*.ipynb)\n",
        "* Save and revision\n",
        "* Change runtime"
      ],
      "metadata": {
        "id": "HkL24Hlp9y9s"
      }
    },
    {
      "cell_type": "markdown",
      "source": [
        "-------------"
      ],
      "metadata": {
        "id": "_0xFx9dzAat-"
      }
    },
    {
      "cell_type": "markdown",
      "source": [
        "## Upload and download\n",
        "* Make a new file locally and saved as `my_file.py`: `my_name = \"Yu Sun\"`\n",
        "* Upload\n",
        "* Modify it\n",
        "* Download"
      ],
      "metadata": {
        "id": "zKErD9WB-XTA"
      }
    },
    {
      "cell_type": "code",
      "source": [
        "import my_file"
      ],
      "metadata": {
        "id": "51BAP5zPZG5h"
      },
      "execution_count": 4,
      "outputs": []
    },
    {
      "cell_type": "code",
      "source": [
        "print(my_file.my_name)"
      ],
      "metadata": {
        "colab": {
          "base_uri": "https://localhost:8080/"
        },
        "id": "W4seM0gzZJ3a",
        "outputId": "8d52ad8b-d713-464a-9f91-578f2e27220a"
      },
      "execution_count": 5,
      "outputs": [
        {
          "output_type": "stream",
          "name": "stdout",
          "text": [
            "Yu Sun\n"
          ]
        }
      ]
    },
    {
      "cell_type": "markdown",
      "source": [
        "-------------"
      ],
      "metadata": {
        "id": "b0uo5RRxAcd6"
      }
    },
    {
      "cell_type": "markdown",
      "source": [
        "## Concepts\n"
      ],
      "metadata": {
        "id": "WW9hKtp5_9pl"
      }
    },
    {
      "cell_type": "markdown",
      "source": [
        "### Paths\n",
        "* Windows: uses back slashes, e.g. `C:\\Users\\admin\\Desktop\\testgit`\n",
        "* Linux: uses forward slashs, e.g. `/usr/bin/gcc`\n",
        "* Colab is running on a Linux machine"
      ],
      "metadata": {
        "id": "NxWAUf8y__yz"
      }
    },
    {
      "cell_type": "markdown",
      "source": [
        "### Python vs Shell Commands\n",
        "Colab is designed to run Python commands. However, sometimes you'd need to make some modification on the system, such as installing a package or list out the files in a folder. In thoses cases, you usually run some shell command.\n",
        "\n",
        "Shell commands act on the operating system, while Python commands only apply to the Python interpreter. For beginners, it's important not to get confused by these two.\n",
        "\n",
        "* The code cell is for Python code, unless\n",
        "* You start with a `!`\n",
        "* Comments are made using `#` for all commands\n"
      ],
      "metadata": {
        "id": "J_Gwto7c-ymp"
      }
    },
    {
      "cell_type": "code",
      "execution_count": 7,
      "metadata": {
        "colab": {
          "base_uri": "https://localhost:8080/"
        },
        "id": "7XbXBYII9am-",
        "outputId": "a4cdada6-b30d-4dfe-e1fb-f26d483a435a"
      },
      "outputs": [
        {
          "output_type": "stream",
          "name": "stdout",
          "text": [
            "[0 1 2 3 4 5 6 7 8 9]\n"
          ]
        }
      ],
      "source": [
        "# This is Python code\n",
        "import numpy as np\n",
        "arr = np.arange(10)\n",
        "print(arr)"
      ]
    },
    {
      "cell_type": "code",
      "source": [
        "# This is a shell commnad\n",
        "!ls / -la"
      ],
      "metadata": {
        "id": "8bSD_Xtw_1Tv"
      },
      "execution_count": null,
      "outputs": []
    },
    {
      "cell_type": "markdown",
      "source": [
        "-------------"
      ],
      "metadata": {
        "id": "pbI0x9bsAd1F"
      }
    },
    {
      "cell_type": "markdown",
      "source": [
        "## Installing packages\n",
        "\n",
        "* Packages are simply code written by other people. The purpose is that you don't need to re-invent the wheel.\n",
        "* Colab has already installed and configured lots of the data science packages, such as numpy, matplotlib, tensorflow and pytorch.\n",
        "* For other packages, use `pip` to install."
      ],
      "metadata": {
        "id": "74GfwEU4B6iq"
      }
    },
    {
      "cell_type": "code",
      "source": [
        "import numpy"
      ],
      "metadata": {
        "id": "6LRFb3EpbdK9"
      },
      "execution_count": 10,
      "outputs": []
    },
    {
      "cell_type": "code",
      "source": [
        "import tensorflow as tf"
      ],
      "metadata": {
        "id": "K5djPaJP_JVD"
      },
      "execution_count": 11,
      "outputs": []
    },
    {
      "cell_type": "code",
      "source": [
        "import torch"
      ],
      "metadata": {
        "id": "Sgy7_2vVCgi_"
      },
      "execution_count": 12,
      "outputs": []
    },
    {
      "cell_type": "code",
      "source": [
        "import pydicom"
      ],
      "metadata": {
        "colab": {
          "base_uri": "https://localhost:8080/",
          "height": 314
        },
        "id": "WST066gLChSS",
        "outputId": "52ba9082-e254-4e73-cf8e-f17caa47ff4d"
      },
      "execution_count": 13,
      "outputs": [
        {
          "output_type": "error",
          "ename": "ModuleNotFoundError",
          "evalue": "No module named 'pydicom'",
          "traceback": [
            "\u001b[0;31m---------------------------------------------------------------------------\u001b[0m",
            "\u001b[0;31mModuleNotFoundError\u001b[0m                       Traceback (most recent call last)",
            "\u001b[0;32m<ipython-input-13-714fe37a307d>\u001b[0m in \u001b[0;36m<cell line: 1>\u001b[0;34m()\u001b[0m\n\u001b[0;32m----> 1\u001b[0;31m \u001b[0;32mimport\u001b[0m \u001b[0mpydicom\u001b[0m\u001b[0;34m\u001b[0m\u001b[0;34m\u001b[0m\u001b[0m\n\u001b[0m",
            "\u001b[0;31mModuleNotFoundError\u001b[0m: No module named 'pydicom'",
            "",
            "\u001b[0;31m---------------------------------------------------------------------------\u001b[0;32m\nNOTE: If your import is failing due to a missing package, you can\nmanually install dependencies using either !pip or !apt.\n\nTo view examples of installing some common dependencies, click the\n\"Open Examples\" button below.\n\u001b[0;31m---------------------------------------------------------------------------\u001b[0m\n"
          ],
          "errorDetails": {
            "actions": [
              {
                "action": "open_url",
                "actionText": "Open Examples",
                "url": "/notebooks/snippets/importing_libraries.ipynb"
              }
            ]
          }
        }
      ]
    },
    {
      "cell_type": "code",
      "source": [
        "!pip install pydicom"
      ],
      "metadata": {
        "colab": {
          "base_uri": "https://localhost:8080/"
        },
        "id": "eNZw0UrvCkYP",
        "outputId": "33c71b47-5c60-44b6-e5eb-918ad7ab37b3"
      },
      "execution_count": 14,
      "outputs": [
        {
          "output_type": "stream",
          "name": "stdout",
          "text": [
            "Collecting pydicom\n",
            "  Downloading pydicom-2.4.4-py3-none-any.whl (1.8 MB)\n",
            "\u001b[2K     \u001b[90m━━━━━━━━━━━━━━━━━━━━━━━━━━━━━━━━━━━━━━━━\u001b[0m \u001b[32m1.8/1.8 MB\u001b[0m \u001b[31m11.5 MB/s\u001b[0m eta \u001b[36m0:00:00\u001b[0m\n",
            "\u001b[?25hInstalling collected packages: pydicom\n",
            "Successfully installed pydicom-2.4.4\n"
          ]
        }
      ]
    },
    {
      "cell_type": "code",
      "source": [
        "import pydicom"
      ],
      "metadata": {
        "id": "CsotHxZ3Cp0k"
      },
      "execution_count": 15,
      "outputs": []
    },
    {
      "cell_type": "markdown",
      "source": [
        "-------------"
      ],
      "metadata": {
        "id": "yfolMtLFB7xb"
      }
    },
    {
      "cell_type": "markdown",
      "source": [
        "## Connect to Google Drive\n",
        "\n",
        "Be mindful of what to save:\n",
        "* Colab is a temporary machine that will disconnect after certain idling.\n",
        "* The `*.ipynb` file will be saved, but any output will be lost.\n",
        "\n",
        "To save the data you need:\n",
        "* Download them to local disk, or\n",
        "* Save them to Google Drive"
      ],
      "metadata": {
        "id": "dturIEmCCu9x"
      }
    },
    {
      "cell_type": "code",
      "source": [
        "from google.colab import drive\n",
        "drive.mount('/content/drive')"
      ],
      "metadata": {
        "colab": {
          "base_uri": "https://localhost:8080/"
        },
        "id": "bxH1OlZbDep_",
        "outputId": "18f50a92-6db6-4713-aa73-66ca35b8f8b2"
      },
      "execution_count": 17,
      "outputs": [
        {
          "output_type": "stream",
          "name": "stdout",
          "text": [
            "Mounted at /content/drive\n"
          ]
        }
      ]
    },
    {
      "cell_type": "markdown",
      "source": [
        "* You'll be asked to log in and notified for an authentication.\n",
        "* Once done, your Google Drive can be accessed as a folder: `/content/drive/MyDrive`"
      ],
      "metadata": {
        "id": "xowcUXKODq2H"
      }
    },
    {
      "cell_type": "code",
      "source": [
        "!ls /content/drive/MyDrive/5020"
      ],
      "metadata": {
        "colab": {
          "base_uri": "https://localhost:8080/"
        },
        "id": "semelFBjD6gd",
        "outputId": "f370d1bd-4e7e-48fe-8930-41779276482c"
      },
      "execution_count": 18,
      "outputs": [
        {
          "output_type": "stream",
          "name": "stdout",
          "text": [
            "plastimatch.zip\n"
          ]
        }
      ]
    },
    {
      "cell_type": "markdown",
      "source": [
        "-------------"
      ],
      "metadata": {
        "id": "FWQqfEekB8YJ"
      }
    },
    {
      "cell_type": "markdown",
      "source": [
        "## Walk through of a sample MRI assignment\n",
        "\n",
        "https://github.com/sunyu0410/5020-python-tutorial/blob/main/PHYS5011_MRI_Assignment_Python_Tutorial_Demo.ipynb\n",
        "\n",
        "We will look at this in more details next week. For now, get a **feel** of the code.\n",
        "\n",
        "* Can I understand what it's doing by simply reading it?\n",
        "* For keywords that I'm not sure, can I guess what it means?\n",
        "* Why the code isn't put in one cell, but across multiple cells?\n",
        "* How comments are made\n",
        "* The use of parentheses `()`, brackets `[]`, and colon `:`"
      ],
      "metadata": {
        "id": "JquydNYWEmYH"
      }
    },
    {
      "cell_type": "markdown",
      "source": [
        "-------------"
      ],
      "metadata": {
        "id": "kwam6kYlB-XP"
      }
    },
    {
      "cell_type": "markdown",
      "source": [
        "End of doc"
      ],
      "metadata": {
        "id": "POM8_b1SH91B"
      }
    }
  ]
}