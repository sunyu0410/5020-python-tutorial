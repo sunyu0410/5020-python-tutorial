{
  "nbformat": 4,
  "nbformat_minor": 0,
  "metadata": {
    "colab": {
      "provenance": []
    },
    "kernelspec": {
      "name": "python3",
      "display_name": "Python 3"
    },
    "language_info": {
      "name": "python"
    }
  },
  "cells": [
    {
      "cell_type": "markdown",
      "source": [
        "# Reading Materials and Exercise (I)\n",
        "\n",
        "5th March\n",
        "\n",
        "Dr. Yu Sun (yu.sun@sydney.edu.au)"
      ],
      "metadata": {
        "id": "OxcwqM4T_C4T"
      }
    },
    {
      "cell_type": "markdown",
      "source": [
        "## Materials\n",
        "The materials for this week are the basic syntax. I have a 20 episode playlist on that: https://youtube.com/playlist?list=PLdtmkxs96NdHfGvcT25EU1jzD6pYBkvxZ&si=6CSzhSEPzZw-F-Eb\n",
        "\n",
        "Please pay attention to the following topics:\n",
        "\n",
        "*   Data types (7 - 14)\n",
        "  * Pay attention to the difference between mutable and immutable objects\n",
        "*   Functions and variable scopes (18, 19)\n",
        "\n",
        "The rest can be learnt by looking up the topic when needed, e.g. the syntax for a for loop.\n",
        "\n",
        "Then finish the exercise below.\n",
        "\n"
      ],
      "metadata": {
        "id": "EhLdl74a_QXs"
      }
    },
    {
      "cell_type": "markdown",
      "source": [
        "## Calculation\n",
        "Use Python as a caclulator and calculate the following expressions. You'll encounter some erros or wierd results, check out why.\n",
        "\n",
        "*\t12 + 24\n",
        "*\t1.24 - 2.3\n",
        "*\t2 * 3.21\n",
        "*\t40 / 2.293\n",
        "*\t1 / (3 + 3j)\n",
        "*\t1 / (3 + 3*j)\n",
        "*\t0.1 + 0.1 + 0.1 == 0.3 (“==” means “equal to”)\n",
        "*\t12 + 24 (assign the answer to a variable called result)\n",
        "\n",
        "Compute the following expression (hint: using the `math` module)\n",
        "$$(\\sin(\\frac{\\pi}{3})+\\cos(\\frac{\\pi}{4})+\\log_2{32})^3$$"
      ],
      "metadata": {
        "id": "ZXWIQ6KYAbIY"
      }
    },
    {
      "cell_type": "markdown",
      "source": [
        "## Inspect\n",
        "\n",
        "* Use `dir()` to inspect what's already defined\n",
        "* Use `del` to delete a variable"
      ],
      "metadata": {
        "id": "BVd5HJ6LBdxe"
      }
    },
    {
      "cell_type": "markdown",
      "source": [
        "## String\n",
        "\n",
        "Define a string and assign it to variable `s`. Run the followings:\n",
        " *\t`s.upper()`\n",
        " *\t`s.lower()`\n",
        " *\t`s.title()`\n",
        " *\t`s.isdigit()` # what about `s2 = ‘124242’; s2.isdigit()`\n",
        " *\t`s.zfill(35)` # what about `s.zfill(40)`\n",
        " *\t`s.center(80)` # what about `s.center(80, ‘*’)`\n"
      ],
      "metadata": {
        "id": "JHZnUTywCegJ"
      }
    },
    {
      "cell_type": "markdown",
      "source": [
        "## List\n",
        "1.\tDefine `myList` to hold the first ten items of the Fibonacci Series, e.g.\n",
        "```\n",
        "1, 1, 2, 3, 5, 8, 13, 21, 34, 55\n",
        "```\n",
        "2.\tUse slicing to get the following subsets:\n",
        " * The third item;\n",
        " * First four items;\n",
        " * The third to the eighth items;\n",
        " * Last item (Hint: a negative number means counting backwards)\n",
        "\n",
        "3.\tChange the last item to string `‘Fifty five’`.\n",
        "\n",
        "4.\tAssign `myList` directly to `myList2`.\n",
        "```\n",
        "myList2 = myList #(There was a typo here in the first draft, now corrected)\n",
        "```\n",
        "Run the following check:\n",
        "```\n",
        "myList == myList2 # Check the value\n",
        "myList is myList2 # Check the identity\n",
        "```\n",
        "5.\tAssign the content of `myList` (through slicing) to `myList2`.\n",
        "```\n",
        "myList2 = myList[:]\n",
        "```\n",
        "Run the same check again and observe the difference. Recall what we want when copying data (same value but different copy).\n",
        "```\n",
        "myList == myList2 # Check the value\n",
        "myList is myList2 # Check the identity\n",
        "```"
      ],
      "metadata": {
        "id": "rGIJBYlMC3xQ"
      }
    },
    {
      "cell_type": "markdown",
      "source": [
        "## Tuples\n",
        "1.\tCast `myList` to a tuple `myTuple`:\n",
        "```\n",
        "myTuple = tuple(myList)\n",
        "```\n",
        "2.\tChange the last item back to integer `55`. Observe what happens.\n"
      ],
      "metadata": {
        "id": "bS1NJwdbDFfz"
      }
    },
    {
      "cell_type": "markdown",
      "source": [
        "## Dictionaries\n",
        "1.\tCreate a dictionary that holds a person's name and gender:\n",
        "```python\n",
        "  info  = {\n",
        "      'name': 'John Doe',\n",
        "      'gender': 'male'\n",
        "  }\n",
        "```\n",
        "\n",
        "\n",
        "2. Query the name using info. Note the key `name` is a string.\n",
        "2.\tSet a new key `address` in the dictionary as *University of Sydney, Camperdown, NSW, Australia*.\n",
        "2.\tWhat if you use `myTuple` as a key? Try it. This time, you’re referencing `myTuple`, so it’s not a string.\n",
        "```\n",
        "info[myTuple] = 'Some value'\n",
        "```\n",
        "\n",
        "\n",
        "4.\tWhat about using `myList` as a key?\n",
        "\n",
        "\n"
      ],
      "metadata": {
        "id": "8mLhozthDLch"
      }
    },
    {
      "cell_type": "markdown",
      "source": [
        "## Boolean values and conditions\n",
        "1.\tUse `bool()` to cast the following objects into a Boolean value. E.g. `bool(0)`\n",
        " * Numbers: 0, 1, -1, 2.3\n",
        " * Strings: ‘’, ‘a string’\n",
        " * Sequences: [], [1, 2, 3]\n",
        "2. Fill in the missing part in the code to tell the tumour grade of a prostate cancer. The criteria are based on Glean Score (GS)\n",
        "  * GS no greater than 2: almost normal\n",
        "  * GS no greater than 6: low grade\n",
        "  * GS no greater than 7: intermediate grade\n",
        "  * GS larger than 7: high-grade\n"
      ],
      "metadata": {
        "id": "htFNkH6_Dybd"
      }
    },
    {
      "cell_type": "code",
      "source": [
        "# Determine the tumour grade based on the Gleason Score\n",
        "\n",
        "gleason_score = 8\n",
        "\n",
        "if :\n",
        "  print('Close to normal tissues.')\n",
        "elif :\n",
        "    print('A low-grade tumour.')\n",
        "elif :\n",
        "    print('An intermediate-grade tumour.')\n",
        "elif :\n",
        "    print('A high-grade tumour.')"
      ],
      "metadata": {
        "id": "8gmtarc_DyNL"
      },
      "execution_count": null,
      "outputs": []
    },
    {
      "cell_type": "markdown",
      "source": [
        "##\tFunctions\n",
        "\n",
        "* Understand the concept of variable scope: *global* vs *local* variables.\n",
        "* Write some code (any code) to prove that a variable created in a function are not the same object from the global scope, even they share the same name.\n"
      ],
      "metadata": {
        "id": "64yzN_JSEnL7"
      }
    },
    {
      "cell_type": "code",
      "execution_count": null,
      "metadata": {
        "id": "Eziz1zXV-_p_"
      },
      "outputs": [],
      "source": []
    }
  ]
}