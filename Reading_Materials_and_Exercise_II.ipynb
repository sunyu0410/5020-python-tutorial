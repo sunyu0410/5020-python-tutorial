{
  "nbformat": 4,
  "nbformat_minor": 0,
  "metadata": {
    "colab": {
      "provenance": []
    },
    "kernelspec": {
      "name": "python3",
      "display_name": "Python 3"
    },
    "language_info": {
      "name": "python"
    }
  },
  "cells": [
    {
      "cell_type": "markdown",
      "source": [
        "# Reading Materials and Exercise II - Numpy\n",
        "\n",
        "Read the following topics if not the entire document: [*NumPy: the absolute basics for beginners*](https://numpy.org/doc/stable/user/absolute_beginners.html)\n",
        "\n",
        "* [Indexing and slicing](https://numpy.org/doc/stable/user/absolute_beginners.html#indexing-and-slicing)\n",
        "* [Broadcasting](https://numpy.org/doc/stable/user/absolute_beginners.html#broadcasting)\n"
      ],
      "metadata": {
        "id": "dvJ_Aa3hscj4"
      }
    },
    {
      "cell_type": "code",
      "source": [
        "import numpy as np"
      ],
      "metadata": {
        "id": "6ddcC2c-w1H4"
      },
      "execution_count": null,
      "outputs": []
    },
    {
      "cell_type": "markdown",
      "source": [
        "## Roatation\n",
        "\n",
        "You'll generate a 2D rotation metrix, apply some noise and use it to transform existing points."
      ],
      "metadata": {
        "id": "L2rCEVhPw159"
      }
    },
    {
      "cell_type": "code",
      "source": [
        "# Setup (Do not change.)\n",
        "np.random.seed(1234)\n",
        "points = np.random.random((30, 2)) * 10 - 5"
      ],
      "metadata": {
        "id": "bpq6posZsarz"
      },
      "execution_count": 7,
      "outputs": []
    },
    {
      "cell_type": "markdown",
      "source": [
        "1. Define a function `get_rot_mat()` that takes an angle ($Θ$) and returns the rotation matrix R as an array.\n",
        "\n",
        "  $R = \\begin{pmatrix}\n",
        "  \\cos(Θ) & -\\sin(Θ) \\\\\n",
        "  \\sin(Θ) & \\cos(Θ) \\\\\n",
        "  \\end{pmatrix}$"
      ],
      "metadata": {
        "id": "H7-zz9IMufFL"
      }
    },
    {
      "cell_type": "markdown",
      "source": [
        "2. Get the rotation matrix of pi/4, assigned as `r45`"
      ],
      "metadata": {
        "id": "SBbZWazEu7nV"
      }
    },
    {
      "cell_type": "markdown",
      "source": [
        "3. Generate some Gausian noise for `r45`, assigned in `noise`, with a mean of 0.1 and standard deviation of 0.1. Use `np.random.normal()`. This should element-wise."
      ],
      "metadata": {
        "id": "Lzk6xPgOvOwQ"
      }
    },
    {
      "cell_type": "markdown",
      "source": [
        "4. Use matrix multiplication `np.matmul()` to get the transformed coordinate of each each point."
      ],
      "metadata": {
        "id": "VkCloq6Pv1Vd"
      }
    },
    {
      "cell_type": "markdown",
      "source": [
        "## Element operations\n",
        "\n",
        "If you are cook, this is your cutting skills. Take a paper, figure out the pattern and strategy, then start coding."
      ],
      "metadata": {
        "id": "t6rRIOCbxhLn"
      }
    },
    {
      "cell_type": "code",
      "source": [
        "# Setup (Do not change)\n",
        "arr = np.arange(1, 25).reshape(2,3,4)\n",
        "arr"
      ],
      "metadata": {
        "colab": {
          "base_uri": "https://localhost:8080/"
        },
        "id": "5jZPYmR-x9QW",
        "outputId": "cb9b874c-fc71-4ccb-d2e8-f779b85c01a3"
      },
      "execution_count": 77,
      "outputs": [
        {
          "output_type": "execute_result",
          "data": {
            "text/plain": [
              "array([[[ 1,  2,  3,  4],\n",
              "        [ 5,  6,  7,  8],\n",
              "        [ 9, 10, 11, 12]],\n",
              "\n",
              "       [[13, 14, 15, 16],\n",
              "        [17, 18, 19, 20],\n",
              "        [21, 22, 23, 24]]])"
            ]
          },
          "metadata": {},
          "execution_count": 77
        }
      ]
    },
    {
      "cell_type": "markdown",
      "source": [
        "### To do\n",
        "Modify from `arr` to the following data. All examples can be done using no more than 3 lines."
      ],
      "metadata": {
        "id": "lW-qTGkxyHO9"
      }
    },
    {
      "cell_type": "code",
      "source": [
        "# Hint: notice how many brackets"
      ],
      "metadata": {
        "colab": {
          "base_uri": "https://localhost:8080/"
        },
        "id": "NEG-hbvm1bHx",
        "outputId": "188c6371-d631-4539-95df-36db3d64dcf7"
      },
      "execution_count": 73,
      "outputs": [
        {
          "output_type": "execute_result",
          "data": {
            "text/plain": [
              "array([[[[ 1,  2,  3,  4],\n",
              "         [ 5,  6,  7,  0],\n",
              "         [ 9,  0, 11,  0]],\n",
              "\n",
              "        [[13,  0, 15,  0],\n",
              "         [17,  0, 19, 20],\n",
              "         [21, 22, 23, 24]]]])"
            ]
          },
          "metadata": {},
          "execution_count": 73
        }
      ]
    },
    {
      "cell_type": "code",
      "source": [],
      "metadata": {
        "colab": {
          "base_uri": "https://localhost:8080/"
        },
        "id": "TPp-4Ky4zGWm",
        "outputId": "20635ff9-547c-4242-9b52-f981125f5a8c"
      },
      "execution_count": 54,
      "outputs": [
        {
          "output_type": "execute_result",
          "data": {
            "text/plain": [
              "array([[[-3, -2, -1,  0],\n",
              "        [ 1,  2,  3,  4],\n",
              "        [ 5,  6,  7,  8]],\n",
              "\n",
              "       [[ 9, 10, 11, 12],\n",
              "        [13, 14, 15, 16],\n",
              "        [17, 18, 19, 20]]])"
            ]
          },
          "metadata": {},
          "execution_count": 54
        }
      ]
    },
    {
      "cell_type": "code",
      "source": [],
      "metadata": {
        "colab": {
          "base_uri": "https://localhost:8080/"
        },
        "id": "ShxHX29szI0T",
        "outputId": "db11b0dd-624d-4987-b739-ede37aad0fdc"
      },
      "execution_count": 55,
      "outputs": [
        {
          "output_type": "execute_result",
          "data": {
            "text/plain": [
              "array([[[ 0,  0,  0,  0],\n",
              "        [ 4,  4,  4,  4],\n",
              "        [ 8,  8,  8,  8]],\n",
              "\n",
              "       [[12, 12, 12, 12],\n",
              "        [16, 16, 16, 16],\n",
              "        [20, 20, 20, 20]]])"
            ]
          },
          "metadata": {},
          "execution_count": 55
        }
      ]
    },
    {
      "cell_type": "code",
      "source": [
        "# Hint: guess what function is applied"
      ],
      "metadata": {
        "colab": {
          "base_uri": "https://localhost:8080/"
        },
        "id": "vOGFQVTVzQ20",
        "outputId": "bd9661a7-095a-41b0-e014-b3f8bd339110"
      },
      "execution_count": 32,
      "outputs": [
        {
          "output_type": "execute_result",
          "data": {
            "text/plain": [
              "array([[[0.        , 1.        , 1.5849625 , 2.        ],\n",
              "        [2.32192809, 2.5849625 , 2.80735492, 3.        ],\n",
              "        [3.169925  , 3.32192809, 3.45943162, 3.5849625 ]],\n",
              "\n",
              "       [[3.70043972, 3.80735492, 3.9068906 , 4.        ],\n",
              "        [4.08746284, 4.169925  , 4.24792751, 4.32192809],\n",
              "        [4.39231742, 4.45943162, 4.52356196, 4.5849625 ]]])"
            ]
          },
          "metadata": {},
          "execution_count": 32
        }
      ]
    },
    {
      "cell_type": "code",
      "source": [],
      "metadata": {
        "colab": {
          "base_uri": "https://localhost:8080/"
        },
        "id": "DL728xByyS5b",
        "outputId": "81651626-1365-4dfc-8328-83ee243bee1f"
      },
      "execution_count": 13,
      "outputs": [
        {
          "output_type": "execute_result",
          "data": {
            "text/plain": [
              "array([[[ 0,  0,  0,  0],\n",
              "        [ 5,  6,  7,  8],\n",
              "        [ 9, 10, 11, 12]],\n",
              "\n",
              "       [[13, 14, 15, 16],\n",
              "        [17, 18, 19, 20],\n",
              "        [21, 22, 23, 24]]])"
            ]
          },
          "metadata": {},
          "execution_count": 13
        }
      ]
    },
    {
      "cell_type": "code",
      "source": [],
      "metadata": {
        "colab": {
          "base_uri": "https://localhost:8080/"
        },
        "id": "c087oJi9yamf",
        "outputId": "8d184590-6a05-44c7-c1af-66867e98d1e4"
      },
      "execution_count": 19,
      "outputs": [
        {
          "output_type": "execute_result",
          "data": {
            "text/plain": [
              "array([[[ 0,  2,  3,  4],\n",
              "        [ 0,  6,  7,  8],\n",
              "        [ 0, 10, 11, 12]],\n",
              "\n",
              "       [[ 0, 14, 15, 16],\n",
              "        [ 0, 18, 19, 20],\n",
              "        [ 0, 22, 23, 24]]])"
            ]
          },
          "metadata": {},
          "execution_count": 19
        }
      ]
    },
    {
      "cell_type": "code",
      "source": [],
      "metadata": {
        "colab": {
          "base_uri": "https://localhost:8080/"
        },
        "id": "kLvL2MBj0w8B",
        "outputId": "8fdc88c5-b9cb-4961-b983-c08f47a885ea"
      },
      "execution_count": 58,
      "outputs": [
        {
          "output_type": "execute_result",
          "data": {
            "text/plain": [
              "array([[[ 0,  2,  0,  4],\n",
              "        [ 0,  6,  0,  8],\n",
              "        [ 0, 10,  0, 12]],\n",
              "\n",
              "       [[ 0, 14,  0, 16],\n",
              "        [ 0, 18,  0, 20],\n",
              "        [ 0, 22,  0, 24]]])"
            ]
          },
          "metadata": {},
          "execution_count": 58
        }
      ]
    },
    {
      "cell_type": "code",
      "source": [],
      "metadata": {
        "colab": {
          "base_uri": "https://localhost:8080/"
        },
        "id": "LBFu5UYXyqtU",
        "outputId": "a4b74c73-66af-4088-d73f-b60f3bd5441d"
      },
      "execution_count": 26,
      "outputs": [
        {
          "output_type": "execute_result",
          "data": {
            "text/plain": [
              "array([[ 1,  2,  3,  4,  5,  6],\n",
              "       [ 7,  8,  9, 10, 11, 12],\n",
              "       [13, 14, 15, 16, 17, 18],\n",
              "       [19, 20, 21, 22, 23, 24]])"
            ]
          },
          "metadata": {},
          "execution_count": 26
        }
      ]
    },
    {
      "cell_type": "code",
      "source": [],
      "metadata": {
        "colab": {
          "base_uri": "https://localhost:8080/"
        },
        "id": "CGdri8yLyute",
        "outputId": "23b911de-eed0-41c3-c266-d99ab695b2c5"
      },
      "execution_count": 28,
      "outputs": [
        {
          "output_type": "execute_result",
          "data": {
            "text/plain": [
              "array([[ 1,  2,  3,  4,  5,  6],\n",
              "       [ 7,  0,  0,  0,  0, 12],\n",
              "       [13,  0,  0,  0,  0, 18],\n",
              "       [19, 20, 21, 22, 23, 24]])"
            ]
          },
          "metadata": {},
          "execution_count": 28
        }
      ]
    },
    {
      "cell_type": "code",
      "source": [],
      "metadata": {
        "colab": {
          "base_uri": "https://localhost:8080/"
        },
        "id": "zSpO4yMv1BmG",
        "outputId": "ba10fba9-c10d-4479-9524-ed6aded62ca9"
      },
      "execution_count": 65,
      "outputs": [
        {
          "output_type": "execute_result",
          "data": {
            "text/plain": [
              "array([[ 1,  2,  3,  4,  5,  6],\n",
              "       [ 7,  0,  9,  0, 11,  0],\n",
              "       [13,  0, 15,  0, 17,  0],\n",
              "       [19, 20, 21, 22, 23, 24]])"
            ]
          },
          "metadata": {},
          "execution_count": 65
        }
      ]
    },
    {
      "cell_type": "code",
      "source": [],
      "metadata": {
        "colab": {
          "base_uri": "https://localhost:8080/"
        },
        "id": "J0Nm2Kulzaz3",
        "outputId": "6807826f-f631-4108-ae41-05878edc6b8d"
      },
      "execution_count": 47,
      "outputs": [
        {
          "output_type": "execute_result",
          "data": {
            "text/plain": [
              "array([ 0,  2,  3,  0,  5,  6,  0,  8,  9,  0, 11, 12,  0, 14, 15,  0, 17,\n",
              "       18,  0, 20, 21,  0, 23, 24])"
            ]
          },
          "metadata": {},
          "execution_count": 47
        }
      ]
    },
    {
      "cell_type": "code",
      "source": [],
      "metadata": {
        "colab": {
          "base_uri": "https://localhost:8080/"
        },
        "id": "huPYXG-Mzs8C",
        "outputId": "33efd1c0-e575-424a-814c-f7f942ec66b4"
      },
      "execution_count": 49,
      "outputs": [
        {
          "output_type": "execute_result",
          "data": {
            "text/plain": [
              "array([[[ 0. +0.j,  2. +4.j,  3. +6.j,  0. +0.j],\n",
              "        [ 5.+10.j,  6.+12.j,  0. +0.j,  8.+16.j],\n",
              "        [ 9.+18.j,  0. +0.j, 11.+22.j, 12.+24.j]],\n",
              "\n",
              "       [[ 0. +0.j, 14.+28.j, 15.+30.j,  0. +0.j],\n",
              "        [17.+34.j, 18.+36.j,  0. +0.j, 20.+40.j],\n",
              "        [21.+42.j,  0. +0.j, 23.+46.j, 24.+48.j]]])"
            ]
          },
          "metadata": {},
          "execution_count": 49
        }
      ]
    },
    {
      "cell_type": "code",
      "source": [],
      "metadata": {
        "id": "VjCJHlgu0L8l"
      },
      "execution_count": null,
      "outputs": []
    }
  ]
}